{
 "cells": [
  {
   "cell_type": "code",
   "execution_count": 1,
   "metadata": {},
   "outputs": [],
   "source": [
    "from tqdm import tqdm\n",
    "from bs4 import BeautifulSoup\n",
    "from selenium import webdriver\n",
    "from selenium.webdriver.common.keys import Keys\n",
    "from urllib.request import urlretrieve\n",
    "import urllib.request\n",
    "import time, random, os \n",
    "import pyautogui"
   ]
  },
  {
   "cell_type": "code",
   "execution_count": 1,
   "metadata": {},
   "outputs": [
    {
     "name": "stdout",
     "output_type": "stream",
     "text": [
      "이미지 이름을 입력하세요.\n",
      "[이미지 검색어 오류] 검색할 이미지가 없습니다.\n",
      "quit\n"
     ]
    }
   ],
   "source": [
    "import pyautogui\n",
    "import sys\n",
    "try:  \n",
    "    search_image_name = pyautogui.prompt(title='Google Image Search & Download',\n",
    "                                         text='구글 이미지 가져오기', \n",
    "                                         default='이미지 이름을 입력하세요.')\n",
    "    print(search_image_name)\n",
    "    if search_image_name == None or search_image_name == \"이미지 이름을 입력하세요.\":\n",
    "        raise Exception(\"[이미지 검색어 오류]\")\n",
    "        \n",
    "except Exception as e:\n",
    "    print(e, \"검색할 이미지가 없습니다.\")\n",
    "    quit()\n",
    "    print(\"quit\")"
   ]
  },
  {
   "cell_type": "code",
   "execution_count": 3,
   "metadata": {},
   "outputs": [
    {
     "data": {
      "text/plain": [
       "'이미지 이름을 입력하세요.'"
      ]
     },
     "execution_count": 3,
     "metadata": {},
     "output_type": "execute_result"
    }
   ],
   "source": [
    "search_image_name"
   ]
  },
  {
   "cell_type": "code",
   "execution_count": 5,
   "metadata": {},
   "outputs": [
    {
     "name": "stdout",
     "output_type": "stream",
     "text": [
      "Writing test.py\n"
     ]
    }
   ],
   "source": [
    "#%%writefile test.py\n",
    "import sys\n",
    "\n",
    "for i in range(4): \n",
    "    print('hello data', i)\n",
    "    sys.exit()"
   ]
  },
  {
   "cell_type": "code",
   "execution_count": 10,
   "metadata": {},
   "outputs": [],
   "source": [
    "exit()"
   ]
  },
  {
   "cell_type": "code",
   "execution_count": null,
   "metadata": {},
   "outputs": [],
   "source": []
  }
 ],
 "metadata": {
  "kernelspec": {
   "display_name": "Python 3",
   "language": "python",
   "name": "python3"
  },
  "language_info": {
   "codemirror_mode": {
    "name": "ipython",
    "version": 3
   },
   "file_extension": ".py",
   "mimetype": "text/x-python",
   "name": "python",
   "nbconvert_exporter": "python",
   "pygments_lexer": "ipython3",
   "version": "3.8.3"
  }
 },
 "nbformat": 4,
 "nbformat_minor": 4
}
